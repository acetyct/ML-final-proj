{
 "cells": [
  {
   "cell_type": "markdown",
   "metadata": {},
   "source": [
    "# Model 2: Does Popularity Causes Popularity?\n",
    "# A Prediction Modelling Approach to the time-dependency on Video Popularity"
   ]
  },
  {
   "cell_type": "markdown",
   "metadata": {},
   "source": [
    "## 1. Introduction"
   ]
  },
  {
   "cell_type": "markdown",
   "metadata": {},
   "source": [
    "In the previous model, we have examines how different category of videos have various viewer statistics. It is a static model that does not take into account the change through time, so what about time? Does a video with high initial view tend to attract more viewers and be more successful, or does the increased view count has little dependence on previous view count? Is there an effect similar to \"The Big gets Bigger\" on Youtube? If there is such a relationship, will they be linear, or will they have some more exciting and intricate characteristics? "
   ]
  },
  {
   "cell_type": "markdown",
   "metadata": {},
   "source": [
    "Since we want to predict which video is going to be popular by looking at their initial performance, we first try to visualize the effect of time on a single video; if time causes a linear increase on every statistics of a video, this may suggest that the initial and final statistics for every video also have a linear relation (if the slope for the increase is similiar among videos). After examining the trend on a single video, we will develop the main model with the purpose of predicting the increase of popularity for any given video based on its initial popularity, or its statistics like likes, dislikes, viewcounts, etc. in particular."
   ]
  },
  {
   "cell_type": "markdown",
   "metadata": {},
   "source": [
    "The dataset we are using is the following:Youtube Videos ViewCount every hour (Link: https://www.kaggle.com/nnqkfdjq/statistics-observation-of-random-youtube-video#count_observation_upload.csv)"
   ]
  },
  {
   "cell_type": "code",
   "execution_count": 1,
   "metadata": {},
   "outputs": [],
   "source": [
    "# import necessary packages\n",
    "import pandas as pd\n",
    "from sklearn.model_selection import train_test_split\n",
    "from sklearn.model_selection import KFold\n",
    "from sklearn.linear_model import LinearRegression\n",
    "import matplotlib.pyplot as plt\n",
    "from sklearn.preprocessing import PolynomialFeatures\n",
    "from sklearn.pipeline import make_pipeline\n",
    "import random\n",
    "import numpy as np"
   ]
  },
  {
   "cell_type": "markdown",
   "metadata": {},
   "source": [
    "## 2. Data Cleaning and Preparation\n",
    "In this step, we get rid of some ofthe unnecessary columns in the original dataset and also split out the first sub-dataset used in the process of determining the role of time on a given video's view statistics."
   ]
  },
  {
   "cell_type": "code",
   "execution_count": 2,
   "metadata": {},
   "outputs": [
    {
     "data": {
      "text/html": [
       "<div>\n",
       "<style scoped>\n",
       "    .dataframe tbody tr th:only-of-type {\n",
       "        vertical-align: middle;\n",
       "    }\n",
       "\n",
       "    .dataframe tbody tr th {\n",
       "        vertical-align: top;\n",
       "    }\n",
       "\n",
       "    .dataframe thead th {\n",
       "        text-align: right;\n",
       "    }\n",
       "</style>\n",
       "<table border=\"1\" class=\"dataframe\">\n",
       "  <thead>\n",
       "    <tr style=\"text-align: right;\">\n",
       "      <th></th>\n",
       "      <th>Unnamed: 0</th>\n",
       "      <th>index</th>\n",
       "      <th>videoId</th>\n",
       "      <th>commentCount</th>\n",
       "      <th>dislikeCount</th>\n",
       "      <th>likeCount</th>\n",
       "      <th>viewCount</th>\n",
       "      <th>Time</th>\n",
       "    </tr>\n",
       "  </thead>\n",
       "  <tbody>\n",
       "    <tr>\n",
       "      <th>0</th>\n",
       "      <td>0</td>\n",
       "      <td>0</td>\n",
       "      <td>FzG4uDgje3M</td>\n",
       "      <td>131330.0</td>\n",
       "      <td>411967.0</td>\n",
       "      <td>1993172.0</td>\n",
       "      <td>281321552.0</td>\n",
       "      <td>2018-05-07 18:00:00</td>\n",
       "    </tr>\n",
       "    <tr>\n",
       "      <th>1</th>\n",
       "      <td>1</td>\n",
       "      <td>1</td>\n",
       "      <td>FzG4uDgje3M</td>\n",
       "      <td>131410.0</td>\n",
       "      <td>412203.0</td>\n",
       "      <td>1994314.0</td>\n",
       "      <td>281468577.0</td>\n",
       "      <td>2018-05-07 19:00:00</td>\n",
       "    </tr>\n",
       "    <tr>\n",
       "      <th>2</th>\n",
       "      <td>2</td>\n",
       "      <td>2</td>\n",
       "      <td>FzG4uDgje3M</td>\n",
       "      <td>131562.0</td>\n",
       "      <td>412511.0</td>\n",
       "      <td>1995697.0</td>\n",
       "      <td>281915631.0</td>\n",
       "      <td>2018-05-07 20:00:00</td>\n",
       "    </tr>\n",
       "    <tr>\n",
       "      <th>3</th>\n",
       "      <td>3</td>\n",
       "      <td>3</td>\n",
       "      <td>FzG4uDgje3M</td>\n",
       "      <td>131690.0</td>\n",
       "      <td>412836.0</td>\n",
       "      <td>1997352.0</td>\n",
       "      <td>282044028.0</td>\n",
       "      <td>2018-05-07 21:00:00</td>\n",
       "    </tr>\n",
       "    <tr>\n",
       "      <th>4</th>\n",
       "      <td>4</td>\n",
       "      <td>4</td>\n",
       "      <td>FzG4uDgje3M</td>\n",
       "      <td>131857.0</td>\n",
       "      <td>413237.0</td>\n",
       "      <td>1999256.0</td>\n",
       "      <td>282380859.0</td>\n",
       "      <td>2018-05-07 22:00:00</td>\n",
       "    </tr>\n",
       "  </tbody>\n",
       "</table>\n",
       "</div>"
      ],
      "text/plain": [
       "   Unnamed: 0  index      videoId  commentCount  dislikeCount  likeCount  \\\n",
       "0           0      0  FzG4uDgje3M      131330.0      411967.0  1993172.0   \n",
       "1           1      1  FzG4uDgje3M      131410.0      412203.0  1994314.0   \n",
       "2           2      2  FzG4uDgje3M      131562.0      412511.0  1995697.0   \n",
       "3           3      3  FzG4uDgje3M      131690.0      412836.0  1997352.0   \n",
       "4           4      4  FzG4uDgje3M      131857.0      413237.0  1999256.0   \n",
       "\n",
       "     viewCount                 Time  \n",
       "0  281321552.0  2018-05-07 18:00:00  \n",
       "1  281468577.0  2018-05-07 19:00:00  \n",
       "2  281915631.0  2018-05-07 20:00:00  \n",
       "3  282044028.0  2018-05-07 21:00:00  \n",
       "4  282380859.0  2018-05-07 22:00:00  "
      ]
     },
     "execution_count": 2,
     "metadata": {},
     "output_type": "execute_result"
    }
   ],
   "source": [
    "data = pd.read_csv('count_observation_upload.csv')\n",
    "df=data.drop(['commentCount_diff','dislikeCount_diff','favoriteCount_diff','likeCount_diff',\n",
    "              'viewCount_diff','favoriteCount'],axis=1)\n",
    "#drop favorite count since this data lacks these info(all 0 in the dataset)\n",
    "#drop other columns since we do not need these info for building our models.\n",
    "df1=df.loc[df['videoId']==\"FzG4uDgje3M\"] # Seperate out the data for a specific video through time\n",
    "df1=df1.dropna()#drop the NaN entries\n",
    "df1.head()"
   ]
  },
  {
   "cell_type": "markdown",
   "metadata": {},
   "source": [
    "Now, to give some insight on what the viewcount change is like for a single video, several graphs are made:"
   ]
  },
  {
   "cell_type": "code",
   "execution_count": 3,
   "metadata": {},
   "outputs": [
    {
     "data": {
      "image/png": "[encoded data removed]",
      "text/plain": [
       "<Figure size 432x288 with 1 Axes>"
      ]
     },
     "metadata": {
      "needs_background": "light"
     },
     "output_type": "display_data"
    }
   ],
   "source": [
    "plt.scatter(df1['Time'],df1['viewCount'])\n",
    "plt.title('viewCount vs Time')\n",
    "plt.xlabel('Time')\n",
    "plt.ylabel('viewCount')\n",
    "plt.show()#we can see the viewcount and time forms a linear relationship."
   ]
  },
  {
   "cell_type": "code",
   "execution_count": 4,
   "metadata": {},
   "outputs": [
    {
     "data": {
      "image/png": "[encoded data removed]",
      "text/plain": [
       "<Figure size 432x288 with 1 Axes>"
      ]
     },
     "metadata": {
      "needs_background": "light"
     },
     "output_type": "display_data"
    }
   ],
   "source": [
    "plt.scatter(df1['Time'],df1['commentCount'])\n",
    "plt.title('commentCount vs Time')\n",
    "plt.xlabel('Time')\n",
    "plt.ylabel('commentCount')\n",
    "plt.show()"
   ]
  },
  {
   "cell_type": "code",
   "execution_count": 5,
   "metadata": {},
   "outputs": [
    {
     "data": {
      "image/png": "[encoded data removed]",
      "text/plain": [
       "<Figure size 432x288 with 1 Axes>"
      ]
     },
     "metadata": {
      "needs_background": "light"
     },
     "output_type": "display_data"
    }
   ],
   "source": [
    "plt.scatter(df1['Time'],df1['likeCount'])\n",
    "plt.title('likeCount vs Time')\n",
    "plt.xlabel('Time')\n",
    "plt.ylabel('likeCount')\n",
    "plt.show()"
   ]
  },
  {
   "cell_type": "code",
   "execution_count": 6,
   "metadata": {},
   "outputs": [
    {
     "data": {
      "image/png": "[encoded data removed]",
      "text/plain": [
       "<Figure size 432x288 with 1 Axes>"
      ]
     },
     "metadata": {
      "needs_background": "light"
     },
     "output_type": "display_data"
    }
   ],
   "source": [
    "plt.scatter(df1['Time'],df1['dislikeCount'])\n",
    "plt.title('dislikeCount vs Time')\n",
    "plt.xlabel('Time')\n",
    "plt.ylabel('dislikeCount')\n",
    "plt.show()"
   ]
  },
  {
   "cell_type": "markdown",
   "metadata": {},
   "source": [
    "## 3. Modelling the effect of time on a single video\n",
    "Judging by the shape of the curve above, we conclude that all statistics have a linear relationship against time. To test our hypothesis, one linear regression model is made for each relationship with standard train-test split and cross-validation."
   ]
  },
  {
   "cell_type": "markdown",
   "metadata": {},
   "source": [
    "\n",
    "We train a linearRegression model to model the linear relation between viewCount and Time. Also, since the time in the dataset are strings and cannot be used to train our model, we could let the initial record time be 0, and since we have data recorded every hour, the index column can be traeted as the \"time\" variable."
   ]
  },
  {
   "cell_type": "code",
   "execution_count": 7,
   "metadata": {},
   "outputs": [
    {
     "data": {
      "text/plain": [
       "0.9879031316328957"
      ]
     },
     "execution_count": 7,
     "metadata": {},
     "output_type": "execute_result"
    }
   ],
   "source": [
    "x_train, x_test, y_train, y_test = train_test_split(df1[['viewCount']], df1[['index']],\n",
    "                                                    test_size=0.2, random_state=42)\n",
    "model = LinearRegression()\n",
    "model = model.fit(x_train, y_train)\n",
    "model.score(x_test, y_test)"
   ]
  },
  {
   "cell_type": "markdown",
   "metadata": {},
   "source": [
    "We get a pretty high score, which indecates our linear model of viewcount and time is pretty accurate. Thus, we could have the conclusion that if the initial viewcount is high, the final viewcount will also be high. We do the similar process for the rest counts and try to find teh relation between these counts and time."
   ]
  },
  {
   "cell_type": "code",
   "execution_count": 8,
   "metadata": {},
   "outputs": [
    {
     "data": {
      "text/plain": [
       "0.9957487072681469"
      ]
     },
     "execution_count": 8,
     "metadata": {},
     "output_type": "execute_result"
    }
   ],
   "source": [
    "x_train, x_test, y_train, y_test = train_test_split(df1[['commentCount']], df1[['index']],\n",
    "                                                    test_size=0.2, random_state=42)\n",
    "#we could let the first record time be 0, and since we have data recorded every hr, \n",
    "#the index of the rows could represent teh time elapsed since the start of record.\n",
    "model = LinearRegression()\n",
    "model = model.fit(x_train, y_train)\n",
    "model.score(x_test, y_test)"
   ]
  },
  {
   "cell_type": "code",
   "execution_count": 9,
   "metadata": {},
   "outputs": [
    {
     "data": {
      "text/plain": [
       "0.9870919411503317"
      ]
     },
     "execution_count": 9,
     "metadata": {},
     "output_type": "execute_result"
    }
   ],
   "source": [
    "x_train, x_test, y_train, y_test = train_test_split(df1[['likeCount']], df1[['index']],\n",
    "                                                    test_size=0.2, random_state=42)\n",
    "model = LinearRegression()\n",
    "model = model.fit(x_train, y_train)\n",
    "model.score(x_test, y_test)"
   ]
  },
  {
   "cell_type": "code",
   "execution_count": 10,
   "metadata": {},
   "outputs": [
    {
     "data": {
      "text/plain": [
       "0.9971574888627115"
      ]
     },
     "execution_count": 10,
     "metadata": {},
     "output_type": "execute_result"
    }
   ],
   "source": [
    "x_train, x_test, y_train, y_test = train_test_split(df1[['dislikeCount']], df1[['index']],\n",
    "                                                    test_size=0.2, random_state=42)\n",
    "model = LinearRegression()\n",
    "model = model.fit(x_train, y_train)\n",
    "model.score(x_test, y_test)"
   ]
  },
  {
   "cell_type": "markdown",
   "metadata": {},
   "source": [
    "These count and time all have linear relation, and these linear relations indicate that the initial commentcount, viewcount, likecount, dislikecount, and their corresponding final values also have linear relations. Initially we thought that linear models can be used to predict the possible final data from the initial statistics, but we soon found out that this model would not yield a descriptive result."
   ]
  },
  {
   "cell_type": "markdown",
   "metadata": {},
   "source": [
    "## 4. Main Model: Modelling the relationship between video's growth over a given time period and its initial performance"
   ]
  },
  {
   "cell_type": "markdown",
   "metadata": {},
   "source": [
    "Initially, we decided to predict the final statistics from the initial statistics, but we noticed a possible cause for unacceptable error in this kind of model: the direct effect of initial counts on final counts. Since the initial counts for most videos are very big compare to the increase in this time peroid, <strong><em>the initial values could have too big an influence on the final values</strong></em> and therefore <strong><em>could significantly affect the modelling of relation and the accesment of accuracy  for the model</strong></em>. (In fact we have done some models this way, and every linear model shows a really low slope and really high score (>0.99) since the difference in increase is just too small compare to the huge initial value)To address this, we plot graphs and construct models of the initial counts and the <strong><em>difference</strong></em> between the final counts and the initial counts. i.e., we plot graphs and build models of the initial counts and the value of (final_count - initial_count) to elimiate the \"fakely accurate\" models that could be caused by the big initial value."
   ]
  },
  {
   "cell_type": "markdown",
   "metadata": {},
   "source": [
    "### 4.1 Further data preparation and visualization"
   ]
  },
  {
   "cell_type": "markdown",
   "metadata": {},
   "source": [
    "We can see that we do have some null values in df3 and we need to fill them with mean value. \n",
    "We could choose mean because the dataset is relatively big, thus teh mean value could be a good representation of the possible NaN values. Then we change the value of counts in df3 to the difference betweeen the final counts and the initial counts to eliminate the influence of the initial values on the accuracy."
   ]
  },
  {
   "cell_type": "code",
   "execution_count": 11,
   "metadata": {},
   "outputs": [
    {
     "name": "stdout",
     "output_type": "stream",
     "text": [
      "Unnamed: 0      False\n",
      "index           False\n",
      "videoId         False\n",
      "commentCount    False\n",
      "dislikeCount    False\n",
      "likeCount       False\n",
      "viewCount       False\n",
      "Time            False\n",
      "dtype: bool\n",
      "Unnamed: 0      False\n",
      "index           False\n",
      "videoId         False\n",
      "commentCount     True\n",
      "dislikeCount     True\n",
      "likeCount        True\n",
      "viewCount        True\n",
      "Time            False\n",
      "dtype: bool\n"
     ]
    },
    {
     "name": "stderr",
     "output_type": "stream",
     "text": [
      "C:\\Users\\19665\\Anaconda3\\lib\\site-packages\\ipykernel_launcher.py:6: SettingWithCopyWarning: \n",
      "A value is trying to be set on a copy of a slice from a DataFrame.\n",
      "Try using .loc[row_indexer,col_indexer] = value instead\n",
      "\n",
      "See the caveats in the documentation: http://pandas.pydata.org/pandas-docs/stable/indexing.html#indexing-view-versus-copy\n",
      "  \n",
      "C:\\Users\\19665\\Anaconda3\\lib\\site-packages\\ipykernel_launcher.py:7: SettingWithCopyWarning: \n",
      "A value is trying to be set on a copy of a slice from a DataFrame.\n",
      "Try using .loc[row_indexer,col_indexer] = value instead\n",
      "\n",
      "See the caveats in the documentation: http://pandas.pydata.org/pandas-docs/stable/indexing.html#indexing-view-versus-copy\n",
      "  import sys\n",
      "C:\\Users\\19665\\Anaconda3\\lib\\site-packages\\ipykernel_launcher.py:8: SettingWithCopyWarning: \n",
      "A value is trying to be set on a copy of a slice from a DataFrame.\n",
      "Try using .loc[row_indexer,col_indexer] = value instead\n",
      "\n",
      "See the caveats in the documentation: http://pandas.pydata.org/pandas-docs/stable/indexing.html#indexing-view-versus-copy\n",
      "  \n",
      "C:\\Users\\19665\\Anaconda3\\lib\\site-packages\\ipykernel_launcher.py:9: SettingWithCopyWarning: \n",
      "A value is trying to be set on a copy of a slice from a DataFrame.\n",
      "Try using .loc[row_indexer,col_indexer] = value instead\n",
      "\n",
      "See the caveats in the documentation: http://pandas.pydata.org/pandas-docs/stable/indexing.html#indexing-view-versus-copy\n",
      "  if __name__ == '__main__':\n",
      "C:\\Users\\19665\\Anaconda3\\lib\\site-packages\\ipykernel_launcher.py:12: SettingWithCopyWarning: \n",
      "A value is trying to be set on a copy of a slice from a DataFrame.\n",
      "Try using .loc[row_indexer,col_indexer] = value instead\n",
      "\n",
      "See the caveats in the documentation: http://pandas.pydata.org/pandas-docs/stable/indexing.html#indexing-view-versus-copy\n",
      "  if sys.path[0] == '':\n"
     ]
    },
    {
     "name": "stdout",
     "output_type": "stream",
     "text": [
      "Unnamed: 0      False\n",
      "index           False\n",
      "videoId         False\n",
      "commentCount    False\n",
      "dislikeCount    False\n",
      "likeCount       False\n",
      "viewCount       False\n",
      "Time            False\n",
      "dtype: bool\n"
     ]
    },
    {
     "name": "stderr",
     "output_type": "stream",
     "text": [
      "C:\\Users\\19665\\Anaconda3\\lib\\site-packages\\ipykernel_launcher.py:13: SettingWithCopyWarning: \n",
      "A value is trying to be set on a copy of a slice from a DataFrame.\n",
      "Try using .loc[row_indexer,col_indexer] = value instead\n",
      "\n",
      "See the caveats in the documentation: http://pandas.pydata.org/pandas-docs/stable/indexing.html#indexing-view-versus-copy\n",
      "  del sys.path[0]\n",
      "C:\\Users\\19665\\Anaconda3\\lib\\site-packages\\ipykernel_launcher.py:14: SettingWithCopyWarning: \n",
      "A value is trying to be set on a copy of a slice from a DataFrame.\n",
      "Try using .loc[row_indexer,col_indexer] = value instead\n",
      "\n",
      "See the caveats in the documentation: http://pandas.pydata.org/pandas-docs/stable/indexing.html#indexing-view-versus-copy\n",
      "  \n",
      "C:\\Users\\19665\\Anaconda3\\lib\\site-packages\\ipykernel_launcher.py:15: SettingWithCopyWarning: \n",
      "A value is trying to be set on a copy of a slice from a DataFrame.\n",
      "Try using .loc[row_indexer,col_indexer] = value instead\n",
      "\n",
      "See the caveats in the documentation: http://pandas.pydata.org/pandas-docs/stable/indexing.html#indexing-view-versus-copy\n",
      "  from ipykernel import kernelapp as app\n"
     ]
    }
   ],
   "source": [
    "df2=df.loc[df['Time']=='2018-05-07 18:00:00']  #Initial Performance\n",
    "df3=df.loc[df['Time']=='2018-06-05 16:00:00']  #Final Performance\n",
    "print(pd.isnull(df2).sum() > 0)\n",
    "print(pd.isnull(df3).sum() > 0)\n",
    "\n",
    "df3['commentCount']=df3['commentCount'].fillna(df3['commentCount'].mean())\n",
    "df3['dislikeCount']=df3['dislikeCount'].fillna(df3['dislikeCount'].mean())\n",
    "df3['likeCount']=df3['likeCount'].fillna(df3['likeCount'].mean())\n",
    "df3['viewCount']=df3['viewCount'].fillna(df3['viewCount'].mean())\n",
    "\n",
    "#difference between initial count and final count\n",
    "df3['commentCount']=df3['commentCount'].values-df2['commentCount'].values\n",
    "df3['dislikeCount']=df3['dislikeCount'].values-df2['dislikeCount'].values\n",
    "df3['likeCount']=df3['likeCount'].values-df2['likeCount'].values\n",
    "df3['viewCount']=df3['viewCount'].values-df2['viewCount'].values\n",
    "print(pd.isnull(df3).sum() > 0) #filled all teh NaN values successfully."
   ]
  },
  {
   "cell_type": "code",
   "execution_count": 12,
   "metadata": {},
   "outputs": [
    {
     "data": {
      "text/html": [
       "<div>\n",
       "<style scoped>\n",
       "    .dataframe tbody tr th:only-of-type {\n",
       "        vertical-align: middle;\n",
       "    }\n",
       "\n",
       "    .dataframe tbody tr th {\n",
       "        vertical-align: top;\n",
       "    }\n",
       "\n",
       "    .dataframe thead th {\n",
       "        text-align: right;\n",
       "    }\n",
       "</style>\n",
       "<table border=\"1\" class=\"dataframe\">\n",
       "  <thead>\n",
       "    <tr style=\"text-align: right;\">\n",
       "      <th></th>\n",
       "      <th>Unnamed: 0</th>\n",
       "      <th>index</th>\n",
       "      <th>videoId</th>\n",
       "      <th>commentCount</th>\n",
       "      <th>dislikeCount</th>\n",
       "      <th>likeCount</th>\n",
       "      <th>viewCount</th>\n",
       "      <th>Time</th>\n",
       "    </tr>\n",
       "  </thead>\n",
       "  <tbody>\n",
       "    <tr>\n",
       "      <th>0</th>\n",
       "      <td>0</td>\n",
       "      <td>0</td>\n",
       "      <td>FzG4uDgje3M</td>\n",
       "      <td>131330.0</td>\n",
       "      <td>411967.0</td>\n",
       "      <td>1993172.0</td>\n",
       "      <td>281321552.0</td>\n",
       "      <td>2018-05-07 18:00:00</td>\n",
       "    </tr>\n",
       "    <tr>\n",
       "      <th>695</th>\n",
       "      <td>695</td>\n",
       "      <td>0</td>\n",
       "      <td>LOYAomlRbxI</td>\n",
       "      <td>13009.0</td>\n",
       "      <td>33188.0</td>\n",
       "      <td>706006.0</td>\n",
       "      <td>80762575.0</td>\n",
       "      <td>2018-05-07 18:00:00</td>\n",
       "    </tr>\n",
       "    <tr>\n",
       "      <th>1390</th>\n",
       "      <td>1390</td>\n",
       "      <td>0</td>\n",
       "      <td>Bm8rz-llMhE</td>\n",
       "      <td>14108.0</td>\n",
       "      <td>22212.0</td>\n",
       "      <td>647831.0</td>\n",
       "      <td>56259050.0</td>\n",
       "      <td>2018-05-07 18:00:00</td>\n",
       "    </tr>\n",
       "    <tr>\n",
       "      <th>2085</th>\n",
       "      <td>2085</td>\n",
       "      <td>0</td>\n",
       "      <td>pd7AMDMotyM</td>\n",
       "      <td>31895.0</td>\n",
       "      <td>41267.0</td>\n",
       "      <td>688754.0</td>\n",
       "      <td>53295716.0</td>\n",
       "      <td>2018-05-07 18:00:00</td>\n",
       "    </tr>\n",
       "    <tr>\n",
       "      <th>2780</th>\n",
       "      <td>2780</td>\n",
       "      <td>0</td>\n",
       "      <td>4kDklB6-69Q</td>\n",
       "      <td>69616.0</td>\n",
       "      <td>20403.0</td>\n",
       "      <td>1048729.0</td>\n",
       "      <td>46531812.0</td>\n",
       "      <td>2018-05-07 18:00:00</td>\n",
       "    </tr>\n",
       "  </tbody>\n",
       "</table>\n",
       "</div>"
      ],
      "text/plain": [
       "      Unnamed: 0  index      videoId  commentCount  dislikeCount  likeCount  \\\n",
       "0              0      0  FzG4uDgje3M      131330.0      411967.0  1993172.0   \n",
       "695          695      0  LOYAomlRbxI       13009.0       33188.0   706006.0   \n",
       "1390        1390      0  Bm8rz-llMhE       14108.0       22212.0   647831.0   \n",
       "2085        2085      0  pd7AMDMotyM       31895.0       41267.0   688754.0   \n",
       "2780        2780      0  4kDklB6-69Q       69616.0       20403.0  1048729.0   \n",
       "\n",
       "        viewCount                 Time  \n",
       "0     281321552.0  2018-05-07 18:00:00  \n",
       "695    80762575.0  2018-05-07 18:00:00  \n",
       "1390   56259050.0  2018-05-07 18:00:00  \n",
       "2085   53295716.0  2018-05-07 18:00:00  \n",
       "2780   46531812.0  2018-05-07 18:00:00  "
      ]
     },
     "execution_count": 12,
     "metadata": {},
     "output_type": "execute_result"
    }
   ],
   "source": [
    "df2.head()"
   ]
  },
  {
   "cell_type": "code",
   "execution_count": 13,
   "metadata": {},
   "outputs": [
    {
     "data": {
      "text/html": [
       "<div>\n",
       "<style scoped>\n",
       "    .dataframe tbody tr th:only-of-type {\n",
       "        vertical-align: middle;\n",
       "    }\n",
       "\n",
       "    .dataframe tbody tr th {\n",
       "        vertical-align: top;\n",
       "    }\n",
       "\n",
       "    .dataframe thead th {\n",
       "        text-align: right;\n",
       "    }\n",
       "</style>\n",
       "<table border=\"1\" class=\"dataframe\">\n",
       "  <thead>\n",
       "    <tr style=\"text-align: right;\">\n",
       "      <th></th>\n",
       "      <th>Unnamed: 0</th>\n",
       "      <th>index</th>\n",
       "      <th>videoId</th>\n",
       "      <th>commentCount</th>\n",
       "      <th>dislikeCount</th>\n",
       "      <th>likeCount</th>\n",
       "      <th>viewCount</th>\n",
       "      <th>Time</th>\n",
       "    </tr>\n",
       "  </thead>\n",
       "  <tbody>\n",
       "    <tr>\n",
       "      <th>694</th>\n",
       "      <td>694</td>\n",
       "      <td>694</td>\n",
       "      <td>FzG4uDgje3M</td>\n",
       "      <td>57945.0</td>\n",
       "      <td>217845.0</td>\n",
       "      <td>773068.0</td>\n",
       "      <td>174162471.0</td>\n",
       "      <td>2018-06-05 16:00:00</td>\n",
       "    </tr>\n",
       "    <tr>\n",
       "      <th>1389</th>\n",
       "      <td>1389</td>\n",
       "      <td>694</td>\n",
       "      <td>LOYAomlRbxI</td>\n",
       "      <td>5347.0</td>\n",
       "      <td>11916.0</td>\n",
       "      <td>165504.0</td>\n",
       "      <td>46932826.0</td>\n",
       "      <td>2018-06-05 16:00:00</td>\n",
       "    </tr>\n",
       "    <tr>\n",
       "      <th>2084</th>\n",
       "      <td>2084</td>\n",
       "      <td>694</td>\n",
       "      <td>Bm8rz-llMhE</td>\n",
       "      <td>1184.0</td>\n",
       "      <td>4892.0</td>\n",
       "      <td>101808.0</td>\n",
       "      <td>16873368.0</td>\n",
       "      <td>2018-06-05 16:00:00</td>\n",
       "    </tr>\n",
       "    <tr>\n",
       "      <th>2779</th>\n",
       "      <td>2779</td>\n",
       "      <td>694</td>\n",
       "      <td>pd7AMDMotyM</td>\n",
       "      <td>1914.0</td>\n",
       "      <td>4709.0</td>\n",
       "      <td>71034.0</td>\n",
       "      <td>16417437.0</td>\n",
       "      <td>2018-06-05 16:00:00</td>\n",
       "    </tr>\n",
       "    <tr>\n",
       "      <th>3474</th>\n",
       "      <td>3474</td>\n",
       "      <td>694</td>\n",
       "      <td>4kDklB6-69Q</td>\n",
       "      <td>10867.0</td>\n",
       "      <td>7536.0</td>\n",
       "      <td>252170.0</td>\n",
       "      <td>27965915.0</td>\n",
       "      <td>2018-06-05 16:00:00</td>\n",
       "    </tr>\n",
       "  </tbody>\n",
       "</table>\n",
       "</div>"
      ],
      "text/plain": [
       "      Unnamed: 0  index      videoId  commentCount  dislikeCount  likeCount  \\\n",
       "694          694    694  FzG4uDgje3M       57945.0      217845.0   773068.0   \n",
       "1389        1389    694  LOYAomlRbxI        5347.0       11916.0   165504.0   \n",
       "2084        2084    694  Bm8rz-llMhE        1184.0        4892.0   101808.0   \n",
       "2779        2779    694  pd7AMDMotyM        1914.0        4709.0    71034.0   \n",
       "3474        3474    694  4kDklB6-69Q       10867.0        7536.0   252170.0   \n",
       "\n",
       "        viewCount                 Time  \n",
       "694   174162471.0  2018-06-05 16:00:00  \n",
       "1389   46932826.0  2018-06-05 16:00:00  \n",
       "2084   16873368.0  2018-06-05 16:00:00  \n",
       "2779   16417437.0  2018-06-05 16:00:00  \n",
       "3474   27965915.0  2018-06-05 16:00:00  "
      ]
     },
     "execution_count": 13,
     "metadata": {},
     "output_type": "execute_result"
    }
   ],
   "source": [
    "df3.head()"
   ]
  },
  {
   "cell_type": "markdown",
   "metadata": {},
   "source": [
    "Now, we try to find the relationship between the initial performance and final performance of videos.\n",
    "We expect this to be a linear relationship according to our pervious analysis, which means that videos on YouTube obey the \"Big gets Bigger\" effect. We first need to \n",
    "visualize their relationship to confirm our prediction.\n",
    "Since these data for the ith entries in df2 and df3 are of the same video, we do not need to alter teh \n",
    "position of rows of df2 and df3 since they are alerady matched."
   ]
  },
  {
   "cell_type": "markdown",
   "metadata": {},
   "source": [
    "#### 4.1.1 Comment vs Comment increase"
   ]
  },
  {
   "cell_type": "code",
   "execution_count": 14,
   "metadata": {},
   "outputs": [
    {
     "data": {
      "image/png": "[encoded data removed]",
      "text/plain": [
       "<Figure size 432x288 with 1 Axes>"
      ]
     },
     "metadata": {
      "needs_background": "light"
     },
     "output_type": "display_data"
    }
   ],
   "source": [
    "plt.scatter(df2['commentCount'],df3['commentCount'])\n",
    "plt.title('initial commentCount vs final_commentCount_diff')\n",
    "plt.xlabel('commentCount_initial')\n",
    "plt.ylabel('commentCount_final_diff')\n",
    "plt.show()"
   ]
  },
  {
   "cell_type": "code",
   "execution_count": 15,
   "metadata": {
    "scrolled": true
   },
   "outputs": [
    {
     "data": {
      "image/png": "[encoded data removed]",
      "text/plain": [
       "<Figure size 432x288 with 1 Axes>"
      ]
     },
     "metadata": {
      "needs_background": "light"
     },
     "output_type": "display_data"
    }
   ],
   "source": [
    "Z, hmx, hmy = np.histogram2d(df2['commentCount'],df3['commentCount'])\n",
    "\n",
    "plt.title('Heatmap')\n",
    "plt.xlabel('commentCount_initial')\n",
    "plt.ylabel('commentCount_final_diff')\n",
    "plt.pcolormesh(hmx,hmy,Z.T)\n",
    "\n",
    "plt.show()"
   ]
  },
  {
   "cell_type": "markdown",
   "metadata": {},
   "source": [
    "From the graph above, we conclude that our prediction of a linear relationship for commentCount is <strong><em>not</strong></em> correct and this error could be caused by the big initial value of the commentCount. We could see that the initial comment count does not quite influence the final commentCount since from the plots we can see that the commentCount difference is nearly the same for all initial comment values, and the density is also nearly the same for all different values. According to the scatter plot, we could try to use both linearRegression model and ploy model to predict their relation, but we may <strong><em>not</strong></em> get a high score since these two counts are not actually tightly correlated."
   ]
  },
  {
   "cell_type": "markdown",
   "metadata": {},
   "source": [
    "#### 4.1.2 Dislike vs Dislike increase"
   ]
  },
  {
   "cell_type": "code",
   "execution_count": 16,
   "metadata": {},
   "outputs": [
    {
     "data": {
      "image/png": "[encoded data removed]",
      "text/plain": [
       "<Figure size 432x288 with 1 Axes>"
      ]
     },
     "metadata": {
      "needs_background": "light"
     },
     "output_type": "display_data"
    }
   ],
   "source": [
    "plt.scatter(df2['dislikeCount'],df3['dislikeCount'])\n",
    "plt.title('initial dislikeCount vs final dislikeCount_diff')\n",
    "plt.xlabel('dislikeCount_initial')\n",
    "plt.ylabel('dislikeCount_final_diff')\n",
    "plt.show()"
   ]
  },
  {
   "cell_type": "markdown",
   "metadata": {},
   "source": [
    "From the graph above, we can see that our assumption of a linear relationship is somewhat accurate, as those who has high initial dislikes gets more dislikes."
   ]
  },
  {
   "cell_type": "markdown",
   "metadata": {},
   "source": [
    "#### 4.1.3 Like vs Like increase"
   ]
  },
  {
   "cell_type": "code",
   "execution_count": 17,
   "metadata": {},
   "outputs": [
    {
     "data": {
      "image/png": "[encoded data removed]",
      "text/plain": [
       "<Figure size 432x288 with 1 Axes>"
      ]
     },
     "metadata": {
      "needs_background": "light"
     },
     "output_type": "display_data"
    }
   ],
   "source": [
    "plt.scatter(df2['likeCount'],df3['likeCount'])\n",
    "plt.title('initial likeCount vs final_likeCount_diff')\n",
    "plt.xlabel('likeCount_initial')\n",
    "plt.ylabel('likeCount_final_diff')\n",
    "plt.show()"
   ]
  },
  {
   "cell_type": "markdown",
   "metadata": {},
   "source": [
    "From the graph above, we can see that our assumption of a linear relationship is somewhat accurate, as those who has high initial likes gets more likes."
   ]
  },
  {
   "cell_type": "markdown",
   "metadata": {},
   "source": [
    "### 4.2 Building a Model for each relationship"
   ]
  },
  {
   "cell_type": "markdown",
   "metadata": {},
   "source": [
    "#### 4.2.1(a) LinearRegression model: initial commentCount and commentCount increase"
   ]
  },
  {
   "cell_type": "code",
   "execution_count": 18,
   "metadata": {},
   "outputs": [
    {
     "data": {
      "text/plain": [
       "0.19337335880250875"
      ]
     },
     "execution_count": 18,
     "metadata": {},
     "output_type": "execute_result"
    }
   ],
   "source": [
    "x_train, x_test, y_train, y_test = train_test_split(df2[['commentCount']], df3[['commentCount']],\n",
    "                                                    test_size=0.2, random_state=42)\n",
    "model = LinearRegression()\n",
    "model = model.fit(x_train, y_train)\n",
    "model.score(x_test, y_test)"
   ]
  },
  {
   "cell_type": "markdown",
   "metadata": {},
   "source": [
    "#### 4.2.1(b) poly model: initial commentCount and commentCount increase"
   ]
  },
  {
   "cell_type": "code",
   "execution_count": 19,
   "metadata": {},
   "outputs": [
    {
     "data": {
      "text/plain": [
       "0.2013606105215069"
      ]
     },
     "execution_count": 19,
     "metadata": {},
     "output_type": "execute_result"
    }
   ],
   "source": [
    "poly_model = make_pipeline(PolynomialFeatures(3), LinearRegression())\n",
    "poly_model.fit(x_train, y_train)\n",
    "poly_model.score(x_test, y_test)"
   ]
  },
  {
   "cell_type": "markdown",
   "metadata": {},
   "source": [
    "Here, both model failed to provide a satisfactory result. As mentioned in the visualization part, we believe this result verifies our idea that comment increase is somewhat not dependent on the initial comments."
   ]
  },
  {
   "cell_type": "markdown",
   "metadata": {},
   "source": [
    "#### 4.2.2 (a) LinearRegression model: initial dislikeCount and dislikeCount increase¶"
   ]
  },
  {
   "cell_type": "code",
   "execution_count": 20,
   "metadata": {},
   "outputs": [
    {
     "data": {
      "text/plain": [
       "0.5099655509613146"
      ]
     },
     "execution_count": 20,
     "metadata": {},
     "output_type": "execute_result"
    }
   ],
   "source": [
    "x_train, x_test, y_train, y_test = train_test_split(df2[['dislikeCount']], df3[['dislikeCount']],\n",
    "                                                    test_size=0.2, random_state=42)\n",
    "model = LinearRegression()\n",
    "model = model.fit(x_train, y_train)\n",
    "model.score(x_test, y_test)"
   ]
  },
  {
   "cell_type": "markdown",
   "metadata": {},
   "source": [
    "#### 4.2.2 (b) poly model: initial dislikeCount and dislikeCount increase"
   ]
  },
  {
   "cell_type": "code",
   "execution_count": 21,
   "metadata": {},
   "outputs": [
    {
     "data": {
      "text/plain": [
       "0.39714707566088814"
      ]
     },
     "execution_count": 21,
     "metadata": {},
     "output_type": "execute_result"
    }
   ],
   "source": [
    "poly_model = make_pipeline(PolynomialFeatures(3), LinearRegression())\n",
    "poly_model.fit(x_train, y_train)\n",
    "poly_model.score(x_test, y_test)"
   ]
  },
  {
   "cell_type": "markdown",
   "metadata": {},
   "source": [
    "The higher modelling score for linear model verifies our idea that the initial dislikeCount and dislikeCount_diff between the initial dislikeCount and final dislikeCouunt is more a linear relation; in other words, if there are more people dislike a video at the beginning when the video is posted, then more likely there are more people dislike this video after time."
   ]
  },
  {
   "cell_type": "markdown",
   "metadata": {},
   "source": [
    "#### 4.2.3 (a) LinearRegression model: initial likeCount and likeCount increase"
   ]
  },
  {
   "cell_type": "code",
   "execution_count": 22,
   "metadata": {},
   "outputs": [
    {
     "data": {
      "text/plain": [
       "0.5198182179104062"
      ]
     },
     "execution_count": 22,
     "metadata": {},
     "output_type": "execute_result"
    }
   ],
   "source": [
    "x_train, x_test, y_train, y_test = train_test_split(df2[['likeCount']], df3[['likeCount']],\n",
    "                                                    test_size=0.2, random_state=42)\n",
    "model = LinearRegression()\n",
    "model = model.fit(x_train, y_train)\n",
    "model.score(x_test, y_test)"
   ]
  },
  {
   "cell_type": "markdown",
   "metadata": {},
   "source": [
    "#### 4.2.3(b) poly model: initial likeCount and likeCount increase¶"
   ]
  },
  {
   "cell_type": "code",
   "execution_count": 23,
   "metadata": {},
   "outputs": [
    {
     "data": {
      "text/plain": [
       "0.44440051723076035"
      ]
     },
     "execution_count": 23,
     "metadata": {},
     "output_type": "execute_result"
    }
   ],
   "source": [
    "poly_model = make_pipeline(PolynomialFeatures(3), LinearRegression())\n",
    "poly_model.fit(x_train, y_train)\n",
    "poly_model.score(x_test, y_test)"
   ]
  },
  {
   "cell_type": "markdown",
   "metadata": {},
   "source": [
    "We could see from the previous plot and analysis that the initial likeCount and likeCount_diff between the initial likeCount and final likeCouunt is more a linear relation; in other words, if there are more people like a video at the beginning when the video is posted, then more likely there are more people like this video after time. This ralation is similar to those found on the initial dislike and final_dislike_diff relation, which is reasonable."
   ]
  },
  {
   "cell_type": "markdown",
   "metadata": {},
   "source": [
    "#### 4.2.4(a) LinearRegression model: initial viewCount and viewCount increase"
   ]
  },
  {
   "cell_type": "code",
   "execution_count": 24,
   "metadata": {},
   "outputs": [
    {
     "data": {
      "text/plain": [
       "0.764144432898527"
      ]
     },
     "execution_count": 24,
     "metadata": {},
     "output_type": "execute_result"
    }
   ],
   "source": [
    "x_train, x_test, y_train, y_test = train_test_split(df2[['viewCount']], df3[['viewCount']],\n",
    "                                                    test_size=0.2, random_state=42)\n",
    "model = LinearRegression()\n",
    "model = model.fit(x_train, y_train)\n",
    "model.score(x_test, y_test)"
   ]
  },
  {
   "cell_type": "markdown",
   "metadata": {},
   "source": [
    "#### 4.2.4(b) poly model: initial viewCount and viewCount increase"
   ]
  },
  {
   "cell_type": "code",
   "execution_count": 25,
   "metadata": {},
   "outputs": [
    {
     "data": {
      "text/plain": [
       "0.8844861772127124"
      ]
     },
     "execution_count": 25,
     "metadata": {},
     "output_type": "execute_result"
    }
   ],
   "source": [
    "poly_model = make_pipeline(PolynomialFeatures(3), LinearRegression())\n",
    "poly_model.fit(x_train, y_train)\n",
    "poly_model.score(x_test, y_test)"
   ]
  },
  {
   "cell_type": "markdown",
   "metadata": {},
   "source": [
    "From the plot and analysis above, we could see that the initial viewCount and the difference between the initial viewCount and final viewCount is more a ploynomial relation; this means that if there are more people view the video at the beginning when the video is posted, there are more likely to be much more people to view the video after time. It seems very reasonable for this to be a non-linear relationship since one people views the video usually means this video will be more popular, and viewers are more likely to click and watch an already-popular video. This kind of exponencial growth is a key characteristics of the \"Big gets Bigger\" effect, and it can be found in other places like competition between firms."
   ]
  },
  {
   "cell_type": "markdown",
   "metadata": {},
   "source": [
    "## 5. Interpretation of the result"
   ]
  },
  {
   "cell_type": "markdown",
   "metadata": {},
   "source": [
    "Our result shows that the initial performance of a video is not necessary linearly correlated to its final performance. <br><br>\n",
    "From the analysis above, we could see that the initial comment count does not influence the change of comment count after time and these two values are not tightly correlated. Therefore we could not say a video will get more comments because it gets many comments initially. <br><br>\n",
    "For the like and dislike counts, these initial values seem to have a more linear relationship with the change of like/dislike counts overtime, which means that we could predict if a video has more like-count at the beginning, it is more likely to have proportionally more like/dislike after time.<br><br>\n",
    "For the viewCounts, these initial values seem to have a more polynomial relation with the change of viewCounts overtime. Therefore, we could predict that if a video has more viewCounts initially, it is more likely to have a lot more viewCounts after time. In other words, if YouTubers wants to make their videos popular after time, it is better for them to try to attract as many people as they can to view their video at the very beginning when the video is released since this will significantly improve the final viewCounts.<br><br>\n",
    "By implementing this model on real-life data, we could predict the final performance of YouTube videos by looking at their first performance. The insight this model provides is beneficial for YouTubers since they can gain prior information on whether or not their video will become viral and what to do to increase this chance by setting early-stage targets on certain kind of counts(views, likes, etc.). For example, our model can help predict the result for different advertising strategies (mass stream or specialized advertisement?) with different initial statistics boost(mass stream dramatically increase your view count, but may hurt you by adding dislikes) for YouTubers so that they can find the optimal strategy."
   ]
  },
  {
   "cell_type": "code",
   "execution_count": null,
   "metadata": {},
   "outputs": [],
   "source": []
  }
 ],
 "metadata": {
  "kernelspec": {
   "display_name": "Python 3",
   "language": "python",
   "name": "python3"
  },
  "language_info": {
   "codemirror_mode": {
    "name": "ipython",
    "version": 3
   },
   "file_extension": ".py",
   "mimetype": "text/x-python",
   "name": "python",
   "nbconvert_exporter": "python",
   "pygments_lexer": "ipython3",
   "version": "3.6.5"
  }
 },
 "nbformat": 4,
 "nbformat_minor": 2
}
